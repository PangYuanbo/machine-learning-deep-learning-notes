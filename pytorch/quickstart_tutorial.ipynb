{
 "cells": [
  {
   "cell_type": "code",
   "metadata": {
    "collapsed": false,
    "ExecuteTime": {
     "end_time": "2024-05-31T20:18:59.412675Z",
     "start_time": "2024-05-31T20:18:59.053390Z"
    }
   },
   "source": [
    "# For tips on running notebooks in Google Colab, see\n",
    "# https://pytorch.org/tutorials/beginner/colab\n",
    "%matplotlib inline"
   ],
   "outputs": [],
   "execution_count": 1
  },
  {
   "cell_type": "markdown",
   "metadata": {},
   "source": [
    "[Learn the Basics](intro.html) \\|\\| **Quickstart** \\|\\|\n",
    "[Tensors](tensorqs_tutorial.html) \\|\\| [Datasets &\n",
    "DataLoaders](data_tutorial.html) \\|\\|\n",
    "[Transforms](transforms_tutorial.html) \\|\\| [Build\n",
    "Model](buildmodel_tutorial.html) \\|\\|\n",
    "[Autograd](autogradqs_tutorial.html) \\|\\|\n",
    "[Optimization](optimization_tutorial.html) \\|\\| [Save & Load\n",
    "Model](saveloadrun_tutorial.html)\n",
    "\n",
    "Quickstart\n",
    "==========\n",
    "\n",
    "This section runs through the API for common tasks in machine learning.\n",
    "Refer to the links in each section to dive deeper.\n",
    "\n",
    "Working with data\n",
    "-----------------\n",
    "\n",
    "PyTorch has two [primitives to work with\n",
    "data](https://pytorch.org/docs/stable/data.html):\n",
    "`torch.utils.data.DataLoader` and `torch.utils.data.Dataset`. `Dataset`\n",
    "stores the samples and their corresponding labels, and `DataLoader`\n",
    "wraps an iterable around the `Dataset`.\n"
   ]
  },
  {
   "cell_type": "code",
   "metadata": {
    "collapsed": false,
    "ExecuteTime": {
     "end_time": "2024-05-31T20:19:04.569083Z",
     "start_time": "2024-05-31T20:19:03.154961Z"
    }
   },
   "source": [
    "import torch\n",
    "from torch import nn\n",
    "from torch.utils.data import DataLoader\n",
    "from torchvision import datasets\n",
    "from torchvision.transforms import ToTensor"
   ],
   "outputs": [],
   "execution_count": 2
  },
  {
   "cell_type": "markdown",
   "metadata": {},
   "source": [
    "PyTorch offers domain-specific libraries such as\n",
    "[TorchText](https://pytorch.org/text/stable/index.html),\n",
    "[TorchVision](https://pytorch.org/vision/stable/index.html), and\n",
    "[TorchAudio](https://pytorch.org/audio/stable/index.html), all of which\n",
    "include datasets. For this tutorial, we will be using a TorchVision\n",
    "dataset.\n",
    "\n",
    "The `torchvision.datasets` module contains `Dataset` objects for many\n",
    "real-world vision data like CIFAR, COCO ([full list\n",
    "here](https://pytorch.org/vision/stable/datasets.html)). In this\n",
    "tutorial, we use the FashionMNIST dataset. Every TorchVision `Dataset`\n",
    "includes two arguments: `transform` and `target_transform` to modify the\n",
    "samples and labels respectively.\n"
   ]
  },
  {
   "cell_type": "code",
   "metadata": {
    "collapsed": false,
    "ExecuteTime": {
     "end_time": "2024-05-31T20:20:03.284632Z",
     "start_time": "2024-05-31T20:19:07.203801Z"
    }
   },
   "source": [
    "# Download training data from open datasets.\n",
    "training_data = datasets.FashionMNIST(\n",
    "    root=\"data\",\n",
    "    train=True,\n",
    "    download=True,\n",
    "    transform=ToTensor(),\n",
    ")\n",
    "\n",
    "# Download test data from open datasets.\n",
    "test_data = datasets.FashionMNIST(\n",
    "    root=\"data\",\n",
    "    train=False,\n",
    "    download=True,\n",
    "    transform=ToTensor(),\n",
    ")"
   ],
   "outputs": [
    {
     "name": "stdout",
     "output_type": "stream",
     "text": [
      "Downloading http://fashion-mnist.s3-website.eu-central-1.amazonaws.com/train-images-idx3-ubyte.gz\n",
      "Downloading http://fashion-mnist.s3-website.eu-central-1.amazonaws.com/train-images-idx3-ubyte.gz to data/FashionMNIST/raw/train-images-idx3-ubyte.gz\n"
     ]
    },
    {
     "name": "stderr",
     "output_type": "stream",
     "text": [
      "100.0%\n"
     ]
    },
    {
     "name": "stdout",
     "output_type": "stream",
     "text": [
      "Extracting data/FashionMNIST/raw/train-images-idx3-ubyte.gz to data/FashionMNIST/raw\n",
      "\n",
      "Downloading http://fashion-mnist.s3-website.eu-central-1.amazonaws.com/train-labels-idx1-ubyte.gz\n",
      "Downloading http://fashion-mnist.s3-website.eu-central-1.amazonaws.com/train-labels-idx1-ubyte.gz to data/FashionMNIST/raw/train-labels-idx1-ubyte.gz\n"
     ]
    },
    {
     "name": "stderr",
     "output_type": "stream",
     "text": [
      "100.0%\n"
     ]
    },
    {
     "name": "stdout",
     "output_type": "stream",
     "text": [
      "Extracting data/FashionMNIST/raw/train-labels-idx1-ubyte.gz to data/FashionMNIST/raw\n",
      "\n",
      "Downloading http://fashion-mnist.s3-website.eu-central-1.amazonaws.com/t10k-images-idx3-ubyte.gz\n",
      "Downloading http://fashion-mnist.s3-website.eu-central-1.amazonaws.com/t10k-images-idx3-ubyte.gz to data/FashionMNIST/raw/t10k-images-idx3-ubyte.gz\n"
     ]
    },
    {
     "name": "stderr",
     "output_type": "stream",
     "text": [
      "100.0%\n"
     ]
    },
    {
     "name": "stdout",
     "output_type": "stream",
     "text": [
      "Extracting data/FashionMNIST/raw/t10k-images-idx3-ubyte.gz to data/FashionMNIST/raw\n",
      "\n",
      "Downloading http://fashion-mnist.s3-website.eu-central-1.amazonaws.com/t10k-labels-idx1-ubyte.gz\n",
      "Downloading http://fashion-mnist.s3-website.eu-central-1.amazonaws.com/t10k-labels-idx1-ubyte.gz to data/FashionMNIST/raw/t10k-labels-idx1-ubyte.gz\n"
     ]
    },
    {
     "name": "stderr",
     "output_type": "stream",
     "text": [
      "100.0%"
     ]
    },
    {
     "name": "stdout",
     "output_type": "stream",
     "text": [
      "Extracting data/FashionMNIST/raw/t10k-labels-idx1-ubyte.gz to data/FashionMNIST/raw\n",
      "\n"
     ]
    },
    {
     "name": "stderr",
     "output_type": "stream",
     "text": [
      "\n"
     ]
    }
   ],
   "execution_count": 3
  },
  {
   "cell_type": "markdown",
   "metadata": {},
   "source": [
    "We pass the `Dataset` as an argument to `DataLoader`. This wraps an\n",
    "iterable over our dataset, and supports automatic batching, sampling,\n",
    "shuffling and multiprocess data loading. Here we define a batch size of\n",
    "64, i.e. each element in the dataloader iterable will return a batch of\n",
    "64 features and labels.\n"
   ]
  },
  {
   "cell_type": "code",
   "metadata": {
    "collapsed": false,
    "ExecuteTime": {
     "end_time": "2024-05-31T20:51:00.420597Z",
     "start_time": "2024-05-31T20:51:00.398221Z"
    }
   },
   "source": [
    "batch_size = 64\n",
    "\n",
    "# Create data loaders.\n",
    "train_dataloader = DataLoader(training_data, batch_size=batch_size)\n",
    "test_dataloader = DataLoader(test_data, batch_size=batch_size)\n",
    "\n",
    "for X, y in test_dataloader:\n",
    "    print(f\"Shape of X [N, C, H, W]: {X.shape}\")\n",
    "    print(f\"Shape of y: {y.shape} {y.dtype}\")\n",
    "    break"
   ],
   "outputs": [
    {
     "name": "stdout",
     "output_type": "stream",
     "text": [
      "Shape of X [N, C, H, W]: torch.Size([64, 1, 28, 28])\n",
      "Shape of y: torch.Size([64]) torch.int64\n"
     ]
    }
   ],
   "execution_count": 4
  },
  {
   "cell_type": "markdown",
   "metadata": {},
   "source": [
    "Read more about [loading data in PyTorch](data_tutorial.html).\n"
   ]
  },
  {
   "cell_type": "markdown",
   "metadata": {},
   "source": [
    "------------------------------------------------------------------------\n"
   ]
  },
  {
   "cell_type": "markdown",
   "metadata": {},
   "source": [
    "Creating Models\n",
    "===============\n",
    "\n",
    "To define a neural network in PyTorch, we create a class that inherits\n",
    "from\n",
    "[nn.Module](https://pytorch.org/docs/stable/generated/torch.nn.Module.html).\n",
    "We define the layers of the network in the `__init__` function and\n",
    "specify how data will pass through the network in the `forward`\n",
    "function. To accelerate operations in the neural network, we move it to\n",
    "the GPU or MPS if available.\n"
   ]
  },
  {
   "cell_type": "code",
   "metadata": {
    "collapsed": false,
    "ExecuteTime": {
     "end_time": "2024-05-31T20:51:03.397512Z",
     "start_time": "2024-05-31T20:51:03.350153Z"
    }
   },
   "source": [
    "# Get cpu, gpu or mps device for training.\n",
    "device = (\n",
    "    \"cuda\"\n",
    "    if torch.cuda.is_available()\n",
    "    else \"mps\"\n",
    "    if torch.backends.mps.is_available()\n",
    "    else \"cpu\"\n",
    ")\n",
    "print(f\"Using {device} device\")\n",
    "\n",
    "# Define model\n",
    "class NeuralNetwork(nn.Module):\n",
    "    def __init__(self):\n",
    "        super().__init__()\n",
    "        self.flatten = nn.Flatten()\n",
    "        self.linear_relu_stack = nn.Sequential(\n",
    "            nn.Linear(28*28, 512),\n",
    "            nn.ReLU(),\n",
    "            nn.Linear(512, 512),\n",
    "            nn.ReLU(),\n",
    "            nn.Linear(512, 10)\n",
    "        )\n",
    "\n",
    "    def forward(self, x):\n",
    "        x = self.flatten(x)\n",
    "        logits = self.linear_relu_stack(x)\n",
    "        return logits\n",
    "\n",
    "model = NeuralNetwork().to(device)\n",
    "print(model)"
   ],
   "outputs": [
    {
     "name": "stdout",
     "output_type": "stream",
     "text": [
      "Using mps device\n",
      "NeuralNetwork(\n",
      "  (flatten): Flatten(start_dim=1, end_dim=-1)\n",
      "  (linear_relu_stack): Sequential(\n",
      "    (0): Linear(in_features=784, out_features=512, bias=True)\n",
      "    (1): ReLU()\n",
      "    (2): Linear(in_features=512, out_features=512, bias=True)\n",
      "    (3): ReLU()\n",
      "    (4): Linear(in_features=512, out_features=10, bias=True)\n",
      "  )\n",
      ")\n"
     ]
    }
   ],
   "execution_count": 5
  },
  {
   "cell_type": "markdown",
   "metadata": {},
   "source": [
    "Read more about [building neural networks in\n",
    "PyTorch](buildmodel_tutorial.html).\n"
   ]
  },
  {
   "cell_type": "markdown",
   "metadata": {},
   "source": [
    "------------------------------------------------------------------------\n"
   ]
  },
  {
   "cell_type": "markdown",
   "metadata": {},
   "source": [
    "Optimizing the Model Parameters\n",
    "===============================\n",
    "\n",
    "To train a model, we need a [loss\n",
    "function](https://pytorch.org/docs/stable/nn.html#loss-functions) and an\n",
    "[optimizer](https://pytorch.org/docs/stable/optim.html).\n"
   ]
  },
  {
   "cell_type": "code",
   "metadata": {
    "collapsed": false,
    "ExecuteTime": {
     "end_time": "2024-05-31T20:51:05.581459Z",
     "start_time": "2024-05-31T20:51:05.574412Z"
    }
   },
   "source": [
    "loss_fn = nn.CrossEntropyLoss()\n",
    "optimizer = torch.optim.SGD(model.parameters(), lr=1e-3)"
   ],
   "outputs": [],
   "execution_count": 6
  },
  {
   "cell_type": "markdown",
   "metadata": {},
   "source": [
    "In a single training loop, the model makes predictions on the training\n",
    "dataset (fed to it in batches), and backpropagates the prediction error\n",
    "to adjust the model\\'s parameters.\n"
   ]
  },
  {
   "cell_type": "code",
   "metadata": {
    "collapsed": false,
    "ExecuteTime": {
     "end_time": "2024-05-31T20:51:06.613672Z",
     "start_time": "2024-05-31T20:51:06.610858Z"
    }
   },
   "source": [
    "def train(dataloader, model, loss_fn, optimizer):\n",
    "    size = len(dataloader.dataset)\n",
    "    model.train()\n",
    "    for batch, (X, y) in enumerate(dataloader):\n",
    "        X, y = X.to(device), y.to(device)\n",
    "\n",
    "        # Compute prediction error\n",
    "        pred = model(X)\n",
    "        loss = loss_fn(pred, y)\n",
    "\n",
    "        # Backpropagation\n",
    "        loss.backward()\n",
    "        optimizer.step()\n",
    "        optimizer.zero_grad()\n",
    "\n",
    "        if batch % 100 == 0:\n",
    "            loss, current = loss.item(), (batch + 1) * len(X)\n",
    "            print(f\"loss: {loss:>7f}  [{current:>5d}/{size:>5d}]\")"
   ],
   "outputs": [],
   "execution_count": 7
  },
  {
   "cell_type": "markdown",
   "metadata": {},
   "source": [
    "We also check the model\\'s performance against the test dataset to\n",
    "ensure it is learning.\n"
   ]
  },
  {
   "cell_type": "code",
   "metadata": {
    "collapsed": false,
    "ExecuteTime": {
     "end_time": "2024-05-31T20:51:09.093006Z",
     "start_time": "2024-05-31T20:51:09.088519Z"
    }
   },
   "source": [
    "def test(dataloader, model, loss_fn):\n",
    "    size = len(dataloader.dataset)\n",
    "    num_batches = len(dataloader)\n",
    "    model.eval()\n",
    "    test_loss, correct = 0, 0\n",
    "    with torch.no_grad():\n",
    "        for X, y in dataloader:\n",
    "            X, y = X.to(device), y.to(device)\n",
    "            pred = model(X)\n",
    "            test_loss += loss_fn(pred, y).item()\n",
    "            correct += (pred.argmax(1) == y).type(torch.float).sum().item()\n",
    "    test_loss /= num_batches\n",
    "    correct /= size\n",
    "    print(f\"Test Error: \\n Accuracy: {(100*correct):>0.1f}%, Avg loss: {test_loss:>8f} \\n\")"
   ],
   "outputs": [],
   "execution_count": 8
  },
  {
   "cell_type": "markdown",
   "metadata": {},
   "source": [
    "The training process is conducted over several iterations (*epochs*).\n",
    "During each epoch, the model learns parameters to make better\n",
    "predictions. We print the model\\'s accuracy and loss at each epoch;\n",
    "we\\'d like to see the accuracy increase and the loss decrease with every\n",
    "epoch.\n"
   ]
  },
  {
   "cell_type": "code",
   "metadata": {
    "collapsed": false,
    "ExecuteTime": {
     "end_time": "2024-05-31T20:52:49.208088Z",
     "start_time": "2024-05-31T20:51:39.875078Z"
    }
   },
   "source": [
    "epochs = 20\n",
    "for t in range(epochs):\n",
    "    print(f\"Epoch {t+1}\\n-------------------------------\")\n",
    "    train(train_dataloader, model, loss_fn, optimizer)\n",
    "    test(test_dataloader, model, loss_fn)\n",
    "print(\"Done!\")"
   ],
   "outputs": [
    {
     "name": "stdout",
     "output_type": "stream",
     "text": [
      "Epoch 1\n",
      "-------------------------------\n",
      "loss: 1.143649  [   64/60000]\n",
      "loss: 1.159829  [ 6464/60000]\n",
      "loss: 0.970099  [12864/60000]\n",
      "loss: 1.109120  [19264/60000]\n",
      "loss: 0.984946  [25664/60000]\n",
      "loss: 1.002853  [32064/60000]\n",
      "loss: 1.053369  [38464/60000]\n",
      "loss: 0.985232  [44864/60000]\n",
      "loss: 1.027685  [51264/60000]\n",
      "loss: 0.973471  [57664/60000]\n",
      "Test Error: \n",
      " Accuracy: 66.5%, Avg loss: 0.976596 \n",
      "\n",
      "Epoch 2\n",
      "-------------------------------\n",
      "loss: 1.025486  [   64/60000]\n",
      "loss: 1.063858  [ 6464/60000]\n",
      "loss: 0.856570  [12864/60000]\n",
      "loss: 1.017637  [19264/60000]\n",
      "loss: 0.897284  [25664/60000]\n",
      "loss: 0.909520  [32064/60000]\n",
      "loss: 0.976014  [38464/60000]\n",
      "loss: 0.911485  [44864/60000]\n",
      "loss: 0.949080  [51264/60000]\n",
      "loss: 0.907316  [57664/60000]\n",
      "Test Error: \n",
      " Accuracy: 67.7%, Avg loss: 0.904514 \n",
      "\n",
      "Epoch 3\n",
      "-------------------------------\n",
      "loss: 0.938926  [   64/60000]\n",
      "loss: 0.997246  [ 6464/60000]\n",
      "loss: 0.775231  [12864/60000]\n",
      "loss: 0.952791  [19264/60000]\n",
      "loss: 0.838286  [25664/60000]\n",
      "loss: 0.841800  [32064/60000]\n",
      "loss: 0.921820  [38464/60000]\n",
      "loss: 0.862464  [44864/60000]\n",
      "loss: 0.892810  [51264/60000]\n",
      "loss: 0.859829  [57664/60000]\n",
      "Test Error: \n",
      " Accuracy: 68.7%, Avg loss: 0.852692 \n",
      "\n",
      "Epoch 4\n",
      "-------------------------------\n",
      "loss: 0.872683  [   64/60000]\n",
      "loss: 0.947587  [ 6464/60000]\n",
      "loss: 0.714564  [12864/60000]\n",
      "loss: 0.904660  [19264/60000]\n",
      "loss: 0.796037  [25664/60000]\n",
      "loss: 0.791356  [32064/60000]\n",
      "loss: 0.881050  [38464/60000]\n",
      "loss: 0.828469  [44864/60000]\n",
      "loss: 0.851040  [51264/60000]\n",
      "loss: 0.823441  [57664/60000]\n",
      "Test Error: \n",
      " Accuracy: 70.0%, Avg loss: 0.813480 \n",
      "\n",
      "Epoch 5\n",
      "-------------------------------\n",
      "loss: 0.819744  [   64/60000]\n",
      "loss: 0.907884  [ 6464/60000]\n",
      "loss: 0.667488  [12864/60000]\n",
      "loss: 0.867506  [19264/60000]\n",
      "loss: 0.763978  [25664/60000]\n",
      "loss: 0.752474  [32064/60000]\n",
      "loss: 0.848199  [38464/60000]\n",
      "loss: 0.803586  [44864/60000]\n",
      "loss: 0.818712  [51264/60000]\n",
      "loss: 0.794102  [57664/60000]\n",
      "Test Error: \n",
      " Accuracy: 71.3%, Avg loss: 0.782288 \n",
      "\n",
      "Epoch 6\n",
      "-------------------------------\n",
      "loss: 0.775872  [   64/60000]\n",
      "loss: 0.874060  [ 6464/60000]\n",
      "loss: 0.629598  [12864/60000]\n",
      "loss: 0.837772  [19264/60000]\n",
      "loss: 0.738237  [25664/60000]\n",
      "loss: 0.721726  [32064/60000]\n",
      "loss: 0.820139  [38464/60000]\n",
      "loss: 0.784037  [44864/60000]\n",
      "loss: 0.792422  [51264/60000]\n",
      "loss: 0.769419  [57664/60000]\n",
      "Test Error: \n",
      " Accuracy: 72.5%, Avg loss: 0.756334 \n",
      "\n",
      "Epoch 7\n",
      "-------------------------------\n",
      "loss: 0.738580  [   64/60000]\n",
      "loss: 0.844229  [ 6464/60000]\n",
      "loss: 0.598031  [12864/60000]\n",
      "loss: 0.813114  [19264/60000]\n",
      "loss: 0.716514  [25664/60000]\n",
      "loss: 0.696794  [32064/60000]\n",
      "loss: 0.795273  [38464/60000]\n",
      "loss: 0.767674  [44864/60000]\n",
      "loss: 0.770462  [51264/60000]\n",
      "loss: 0.747937  [57664/60000]\n",
      "Test Error: \n",
      " Accuracy: 73.5%, Avg loss: 0.733951 \n",
      "\n",
      "Epoch 8\n",
      "-------------------------------\n",
      "loss: 0.706243  [   64/60000]\n",
      "loss: 0.817178  [ 6464/60000]\n",
      "loss: 0.571115  [12864/60000]\n",
      "loss: 0.792051  [19264/60000]\n",
      "loss: 0.697539  [25664/60000]\n",
      "loss: 0.676124  [32064/60000]\n",
      "loss: 0.772616  [38464/60000]\n",
      "loss: 0.753374  [44864/60000]\n",
      "loss: 0.751763  [51264/60000]\n",
      "loss: 0.728850  [57664/60000]\n",
      "Test Error: \n",
      " Accuracy: 74.4%, Avg loss: 0.714116 \n",
      "\n",
      "Epoch 9\n",
      "-------------------------------\n",
      "loss: 0.677704  [   64/60000]\n",
      "loss: 0.792329  [ 6464/60000]\n",
      "loss: 0.547690  [12864/60000]\n",
      "loss: 0.773831  [19264/60000]\n",
      "loss: 0.680792  [25664/60000]\n",
      "loss: 0.658714  [32064/60000]\n",
      "loss: 0.751559  [38464/60000]\n",
      "loss: 0.740452  [44864/60000]\n",
      "loss: 0.735360  [51264/60000]\n",
      "loss: 0.711428  [57664/60000]\n",
      "Test Error: \n",
      " Accuracy: 75.1%, Avg loss: 0.696195 \n",
      "\n",
      "Epoch 10\n",
      "-------------------------------\n",
      "loss: 0.652312  [   64/60000]\n",
      "loss: 0.769364  [ 6464/60000]\n",
      "loss: 0.527042  [12864/60000]\n",
      "loss: 0.757748  [19264/60000]\n",
      "loss: 0.665790  [25664/60000]\n",
      "loss: 0.643803  [32064/60000]\n",
      "loss: 0.731795  [38464/60000]\n",
      "loss: 0.728694  [44864/60000]\n",
      "loss: 0.720736  [51264/60000]\n",
      "loss: 0.695309  [57664/60000]\n",
      "Test Error: \n",
      " Accuracy: 76.1%, Avg loss: 0.679825 \n",
      "\n",
      "Epoch 11\n",
      "-------------------------------\n",
      "loss: 0.629467  [   64/60000]\n",
      "loss: 0.748099  [ 6464/60000]\n",
      "loss: 0.508674  [12864/60000]\n",
      "loss: 0.743246  [19264/60000]\n",
      "loss: 0.652380  [25664/60000]\n",
      "loss: 0.630801  [32064/60000]\n",
      "loss: 0.713266  [38464/60000]\n",
      "loss: 0.717932  [44864/60000]\n",
      "loss: 0.707609  [51264/60000]\n",
      "loss: 0.680251  [57664/60000]\n",
      "Test Error: \n",
      " Accuracy: 76.8%, Avg loss: 0.664789 \n",
      "\n",
      "Epoch 12\n",
      "-------------------------------\n",
      "loss: 0.608962  [   64/60000]\n",
      "loss: 0.728493  [ 6464/60000]\n",
      "loss: 0.492286  [12864/60000]\n",
      "loss: 0.730078  [19264/60000]\n",
      "loss: 0.640349  [25664/60000]\n",
      "loss: 0.619433  [32064/60000]\n",
      "loss: 0.695879  [38464/60000]\n",
      "loss: 0.708347  [44864/60000]\n",
      "loss: 0.695940  [51264/60000]\n",
      "loss: 0.666062  [57664/60000]\n",
      "Test Error: \n",
      " Accuracy: 77.3%, Avg loss: 0.650964 \n",
      "\n",
      "Epoch 13\n",
      "-------------------------------\n",
      "loss: 0.590587  [   64/60000]\n",
      "loss: 0.710356  [ 6464/60000]\n",
      "loss: 0.477598  [12864/60000]\n",
      "loss: 0.717999  [19264/60000]\n",
      "loss: 0.629558  [25664/60000]\n",
      "loss: 0.609420  [32064/60000]\n",
      "loss: 0.679636  [38464/60000]\n",
      "loss: 0.699883  [44864/60000]\n",
      "loss: 0.685679  [51264/60000]\n",
      "loss: 0.652602  [57664/60000]\n",
      "Test Error: \n",
      " Accuracy: 77.8%, Avg loss: 0.638253 \n",
      "\n",
      "Epoch 14\n",
      "-------------------------------\n",
      "loss: 0.574119  [   64/60000]\n",
      "loss: 0.693644  [ 6464/60000]\n",
      "loss: 0.464369  [12864/60000]\n",
      "loss: 0.706921  [19264/60000]\n",
      "loss: 0.619818  [25664/60000]\n",
      "loss: 0.600627  [32064/60000]\n",
      "loss: 0.664564  [38464/60000]\n",
      "loss: 0.692510  [44864/60000]\n",
      "loss: 0.676640  [51264/60000]\n",
      "loss: 0.639853  [57664/60000]\n",
      "Test Error: \n",
      " Accuracy: 78.3%, Avg loss: 0.626575 \n",
      "\n",
      "Epoch 15\n",
      "-------------------------------\n",
      "loss: 0.559234  [   64/60000]\n",
      "loss: 0.678256  [ 6464/60000]\n",
      "loss: 0.452525  [12864/60000]\n",
      "loss: 0.696691  [19264/60000]\n",
      "loss: 0.610935  [25664/60000]\n",
      "loss: 0.592649  [32064/60000]\n",
      "loss: 0.650499  [38464/60000]\n",
      "loss: 0.686192  [44864/60000]\n",
      "loss: 0.668698  [51264/60000]\n",
      "loss: 0.627783  [57664/60000]\n",
      "Test Error: \n",
      " Accuracy: 78.7%, Avg loss: 0.615855 \n",
      "\n",
      "Epoch 16\n",
      "-------------------------------\n",
      "loss: 0.545797  [   64/60000]\n",
      "loss: 0.664116  [ 6464/60000]\n",
      "loss: 0.441852  [12864/60000]\n",
      "loss: 0.687146  [19264/60000]\n",
      "loss: 0.602758  [25664/60000]\n",
      "loss: 0.585440  [32064/60000]\n",
      "loss: 0.637420  [38464/60000]\n",
      "loss: 0.680878  [44864/60000]\n",
      "loss: 0.661819  [51264/60000]\n",
      "loss: 0.616416  [57664/60000]\n",
      "Test Error: \n",
      " Accuracy: 79.0%, Avg loss: 0.606007 \n",
      "\n",
      "Epoch 17\n",
      "-------------------------------\n",
      "loss: 0.533510  [   64/60000]\n",
      "loss: 0.651041  [ 6464/60000]\n",
      "loss: 0.432102  [12864/60000]\n",
      "loss: 0.678137  [19264/60000]\n",
      "loss: 0.595131  [25664/60000]\n",
      "loss: 0.578822  [32064/60000]\n",
      "loss: 0.625254  [38464/60000]\n",
      "loss: 0.676462  [44864/60000]\n",
      "loss: 0.655853  [51264/60000]\n",
      "loss: 0.605561  [57664/60000]\n",
      "Test Error: \n",
      " Accuracy: 79.4%, Avg loss: 0.596948 \n",
      "\n",
      "Epoch 18\n",
      "-------------------------------\n",
      "loss: 0.522259  [   64/60000]\n",
      "loss: 0.638985  [ 6464/60000]\n",
      "loss: 0.423147  [12864/60000]\n",
      "loss: 0.669628  [19264/60000]\n",
      "loss: 0.587908  [25664/60000]\n",
      "loss: 0.572694  [32064/60000]\n",
      "loss: 0.613917  [38464/60000]\n",
      "loss: 0.672780  [44864/60000]\n",
      "loss: 0.650645  [51264/60000]\n",
      "loss: 0.595191  [57664/60000]\n",
      "Test Error: \n",
      " Accuracy: 79.7%, Avg loss: 0.588629 \n",
      "\n",
      "Epoch 19\n",
      "-------------------------------\n",
      "loss: 0.511840  [   64/60000]\n",
      "loss: 0.627942  [ 6464/60000]\n",
      "loss: 0.414937  [12864/60000]\n",
      "loss: 0.661647  [19264/60000]\n",
      "loss: 0.581001  [25664/60000]\n",
      "loss: 0.566941  [32064/60000]\n",
      "loss: 0.603423  [38464/60000]\n",
      "loss: 0.669862  [44864/60000]\n",
      "loss: 0.646109  [51264/60000]\n",
      "loss: 0.585220  [57664/60000]\n",
      "Test Error: \n",
      " Accuracy: 80.0%, Avg loss: 0.580974 \n",
      "\n",
      "Epoch 20\n",
      "-------------------------------\n",
      "loss: 0.502173  [   64/60000]\n",
      "loss: 0.617798  [ 6464/60000]\n",
      "loss: 0.407387  [12864/60000]\n",
      "loss: 0.654162  [19264/60000]\n",
      "loss: 0.574322  [25664/60000]\n",
      "loss: 0.561431  [32064/60000]\n",
      "loss: 0.593643  [38464/60000]\n",
      "loss: 0.667612  [44864/60000]\n",
      "loss: 0.642150  [51264/60000]\n",
      "loss: 0.575630  [57664/60000]\n",
      "Test Error: \n",
      " Accuracy: 80.2%, Avg loss: 0.573914 \n",
      "\n",
      "Done!\n"
     ]
    }
   ],
   "execution_count": 10
  },
  {
   "cell_type": "markdown",
   "metadata": {},
   "source": [
    "Read more about [Training your model](optimization_tutorial.html).\n"
   ]
  },
  {
   "cell_type": "markdown",
   "metadata": {},
   "source": [
    "------------------------------------------------------------------------\n"
   ]
  },
  {
   "cell_type": "markdown",
   "metadata": {},
   "source": [
    "Saving Models\n",
    "=============\n",
    "\n",
    "A common way to save a model is to serialize the internal state\n",
    "dictionary (containing the model parameters).\n"
   ]
  },
  {
   "cell_type": "code",
   "metadata": {
    "collapsed": false,
    "ExecuteTime": {
     "end_time": "2024-05-31T21:16:49.118677Z",
     "start_time": "2024-05-31T21:16:49.085982Z"
    }
   },
   "source": [
    "torch.save(model.state_dict(), \"model.pth\")\n",
    "print(\"Saved PyTorch Model State to model.pth\")"
   ],
   "outputs": [
    {
     "name": "stdout",
     "output_type": "stream",
     "text": [
      "Saved PyTorch Model State to model.pth\n"
     ]
    }
   ],
   "execution_count": 11
  },
  {
   "cell_type": "markdown",
   "metadata": {},
   "source": [
    "Loading Models\n",
    "==============\n",
    "\n",
    "The process for loading a model includes re-creating the model structure\n",
    "and loading the state dictionary into it.\n"
   ]
  },
  {
   "cell_type": "code",
   "metadata": {
    "collapsed": false,
    "ExecuteTime": {
     "end_time": "2024-05-31T21:16:53.378053Z",
     "start_time": "2024-05-31T21:16:53.359084Z"
    }
   },
   "source": [
    "model = NeuralNetwork().to(device)\n",
    "model.load_state_dict(torch.load(\"model.pth\"))"
   ],
   "outputs": [
    {
     "data": {
      "text/plain": [
       "<All keys matched successfully>"
      ]
     },
     "execution_count": 12,
     "metadata": {},
     "output_type": "execute_result"
    }
   ],
   "execution_count": 12
  },
  {
   "cell_type": "markdown",
   "metadata": {},
   "source": [
    "This model can now be used to make predictions.\n"
   ]
  },
  {
   "cell_type": "code",
   "metadata": {
    "collapsed": false,
    "ExecuteTime": {
     "end_time": "2024-05-31T21:16:54.789108Z",
     "start_time": "2024-05-31T21:16:54.429121Z"
    }
   },
   "source": [
    "classes = [\n",
    "    \"T-shirt/top\",\n",
    "    \"Trouser\",\n",
    "    \"Pullover\",\n",
    "    \"Dress\",\n",
    "    \"Coat\",\n",
    "    \"Sandal\",\n",
    "    \"Shirt\",\n",
    "    \"Sneaker\",\n",
    "    \"Bag\",\n",
    "    \"Ankle boot\",\n",
    "]\n",
    "\n",
    "model.eval()\n",
    "x, y = test_data[0][0], test_data[0][1]\n",
    "with torch.no_grad():\n",
    "    x = x.to(device)\n",
    "    pred = model(x)\n",
    "    predicted, actual = classes[pred[0].argmax(0)], classes[y]\n",
    "    print(f'Predicted: \"{predicted}\", Actual: \"{actual}\"')"
   ],
   "outputs": [
    {
     "name": "stdout",
     "output_type": "stream",
     "text": [
      "Predicted: \"Ankle boot\", Actual: \"Ankle boot\"\n"
     ]
    }
   ],
   "execution_count": 13
  },
  {
   "cell_type": "markdown",
   "metadata": {},
   "source": [
    "Read more about [Saving & Loading your\n",
    "model](saveloadrun_tutorial.html).\n"
   ]
  }
 ],
 "metadata": {
  "kernelspec": {
   "display_name": "Python 3",
   "language": "python",
   "name": "python3"
  },
  "language_info": {
   "codemirror_mode": {
    "name": "ipython",
    "version": 3
   },
   "file_extension": ".py",
   "mimetype": "text/x-python",
   "name": "python",
   "nbconvert_exporter": "python",
   "pygments_lexer": "ipython3",
   "version": "3.10.14"
  }
 },
 "nbformat": 4,
 "nbformat_minor": 0
}
